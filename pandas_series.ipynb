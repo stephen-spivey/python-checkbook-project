{
 "cells": [
  {
   "cell_type": "code",
   "execution_count": 6,
   "id": "da201593-8807-4613-a00c-44671f1c4931",
   "metadata": {
    "tags": []
   },
   "outputs": [],
   "source": [
    "import pandas as pd\n",
    "import numpy as np"
   ]
  },
  {
   "cell_type": "code",
   "execution_count": null,
   "id": "b51643c2-0d93-4bc8-b6a1-cc62e0d201ab",
   "metadata": {},
   "outputs": [],
   "source": [
    "# Series Part 1"
   ]
  },
  {
   "cell_type": "code",
   "execution_count": 142,
   "id": "cf8ef472-e76b-4a22-8b74-85f8d66e8694",
   "metadata": {
    "tags": []
   },
   "outputs": [],
   "source": [
    "my_list = [\"kiwi\", \"mango\", \"strawberry\", \"pineapple\", \"gala apple\", \"honeycrisp apple\", \n",
    "           \"tomato\", \"watermelon\", \"honeydew\", \"kiwi\", \"kiwi\", \"kiwi\", \"mango\", \"blueberry\", \n",
    "           \"blackberry\", \"gooseberry\", \"papaya\"]"
   ]
  },
  {
   "cell_type": "code",
   "execution_count": null,
   "id": "d33c736d-2201-48c1-8793-d43fec2760c7",
   "metadata": {},
   "outputs": [],
   "source": []
  },
  {
   "cell_type": "code",
   "execution_count": 17,
   "id": "e058796c-b5f2-4e4b-ac27-393cb3854ff8",
   "metadata": {
    "tags": []
   },
   "outputs": [
    {
     "data": {
      "text/plain": [
       "list"
      ]
     },
     "execution_count": 17,
     "metadata": {},
     "output_type": "execute_result"
    }
   ],
   "source": [
    "type(my_list)"
   ]
  },
  {
   "cell_type": "code",
   "execution_count": 18,
   "id": "d0b3a8f2-7d51-48dd-8dc0-ad2ce3f53b0f",
   "metadata": {
    "tags": []
   },
   "outputs": [
    {
     "data": {
      "text/plain": [
       "'kiwi'"
      ]
     },
     "execution_count": 18,
     "metadata": {},
     "output_type": "execute_result"
    }
   ],
   "source": [
    "my_list[0]"
   ]
  },
  {
   "cell_type": "code",
   "execution_count": 19,
   "id": "c1b0796c-211f-4fe9-9713-344a6aa14c81",
   "metadata": {
    "tags": []
   },
   "outputs": [],
   "source": [
    "fruits = pd.Series(my_list)"
   ]
  },
  {
   "cell_type": "code",
   "execution_count": 20,
   "id": "fd1b1b67-1ba7-4cfc-bc5f-42e9630e8a5e",
   "metadata": {
    "tags": []
   },
   "outputs": [
    {
     "data": {
      "text/plain": [
       "pandas.core.series.Series"
      ]
     },
     "execution_count": 20,
     "metadata": {},
     "output_type": "execute_result"
    }
   ],
   "source": [
    "type(my_series)"
   ]
  },
  {
   "cell_type": "code",
   "execution_count": null,
   "id": "49ed6f66-0263-4803-b3c1-ab498cf799a3",
   "metadata": {},
   "outputs": [],
   "source": [
    "# 1. Determine the number of elements in fruits."
   ]
  },
  {
   "cell_type": "code",
   "execution_count": 21,
   "id": "1b46aa63-c3fd-450c-9e52-75b95e6ced6d",
   "metadata": {
    "tags": []
   },
   "outputs": [
    {
     "data": {
      "text/plain": [
       "17"
      ]
     },
     "execution_count": 21,
     "metadata": {},
     "output_type": "execute_result"
    }
   ],
   "source": [
    "fruits.size"
   ]
  },
  {
   "cell_type": "code",
   "execution_count": null,
   "id": "de04617b-aea3-412c-b38d-4afccfb09b96",
   "metadata": {},
   "outputs": [],
   "source": [
    "# 2. Output only the index from fruits."
   ]
  },
  {
   "cell_type": "code",
   "execution_count": 22,
   "id": "3f7ca002-376a-4424-9ff2-c1fccdf1a8f4",
   "metadata": {
    "tags": []
   },
   "outputs": [
    {
     "data": {
      "text/plain": [
       "RangeIndex(start=0, stop=17, step=1)"
      ]
     },
     "execution_count": 22,
     "metadata": {},
     "output_type": "execute_result"
    }
   ],
   "source": [
    "fruits.index"
   ]
  },
  {
   "cell_type": "code",
   "execution_count": null,
   "id": "4ebd31dc-5035-4b12-9824-7212fb545d47",
   "metadata": {},
   "outputs": [],
   "source": [
    "# 3. Output only the values from fruits."
   ]
  },
  {
   "cell_type": "code",
   "execution_count": 23,
   "id": "4f545d08-aea5-4222-9a58-0ba3ba6d062d",
   "metadata": {
    "tags": []
   },
   "outputs": [
    {
     "data": {
      "text/plain": [
       "array(['kiwi', 'mango', 'strawberry', 'pineapple', 'gala apple',\n",
       "       'honeycrisp apple', 'tomato', 'watermelon', 'honeydew', 'kiwi',\n",
       "       'kiwi', 'kiwi', 'mango', 'blueberry', 'blackberry', 'gooseberry',\n",
       "       'papaya'], dtype=object)"
      ]
     },
     "execution_count": 23,
     "metadata": {},
     "output_type": "execute_result"
    }
   ],
   "source": [
    "fruits.values"
   ]
  },
  {
   "cell_type": "code",
   "execution_count": null,
   "id": "b3c2ce5e-8c38-45dc-b7f2-443e34c4e239",
   "metadata": {},
   "outputs": [],
   "source": [
    "# 4. Confirm the data type of the values in fruits."
   ]
  },
  {
   "cell_type": "code",
   "execution_count": 24,
   "id": "b124659a-ef6d-4891-9e38-c0240fa7f09c",
   "metadata": {
    "tags": []
   },
   "outputs": [
    {
     "data": {
      "text/plain": [
       "dtype('O')"
      ]
     },
     "execution_count": 24,
     "metadata": {},
     "output_type": "execute_result"
    }
   ],
   "source": [
    "fruits.dtypes"
   ]
  },
  {
   "cell_type": "code",
   "execution_count": null,
   "id": "9e68810e-d86f-4cd6-beea-1d905bc911bf",
   "metadata": {},
   "outputs": [],
   "source": [
    "# 5. Output only the first five values from fruits. Output the last three values. Output two random values from fruits."
   ]
  },
  {
   "cell_type": "code",
   "execution_count": 26,
   "id": "94d02e6c-441b-476f-bd1c-29cbac26f1c8",
   "metadata": {},
   "outputs": [
    {
     "data": {
      "text/plain": [
       "0          kiwi\n",
       "1         mango\n",
       "2    strawberry\n",
       "3     pineapple\n",
       "4    gala apple\n",
       "dtype: object"
      ]
     },
     "execution_count": 26,
     "metadata": {},
     "output_type": "execute_result"
    }
   ],
   "source": [
    "fruits.head()"
   ]
  },
  {
   "cell_type": "code",
   "execution_count": null,
   "id": "4f7add23-acf0-4fb1-b161-f7a314b9cf5e",
   "metadata": {},
   "outputs": [],
   "source": [
    "# 6. Run the .describe() on fruits to see what information it returns when called on a Series with string values."
   ]
  },
  {
   "cell_type": "code",
   "execution_count": 25,
   "id": "69052faa-bf82-40db-afb7-33cc69615b3b",
   "metadata": {},
   "outputs": [
    {
     "data": {
      "text/plain": [
       "count       17\n",
       "unique      13\n",
       "top       kiwi\n",
       "freq         4\n",
       "dtype: object"
      ]
     },
     "execution_count": 25,
     "metadata": {},
     "output_type": "execute_result"
    }
   ],
   "source": [
    "fruits.describe()"
   ]
  },
  {
   "cell_type": "code",
   "execution_count": null,
   "id": "3de148a2-33ed-4ba8-851a-a8b9d6140c9b",
   "metadata": {},
   "outputs": [],
   "source": [
    "# 7. Run the code necessary to produce only the unique string values from fruits."
   ]
  },
  {
   "cell_type": "code",
   "execution_count": 28,
   "id": "97fa6c8f-d9f1-4167-bc9f-7017654ce7d5",
   "metadata": {
    "tags": []
   },
   "outputs": [
    {
     "data": {
      "text/plain": [
       "array(['kiwi', 'mango', 'strawberry', 'pineapple', 'gala apple',\n",
       "       'honeycrisp apple', 'tomato', 'watermelon', 'honeydew',\n",
       "       'blueberry', 'blackberry', 'gooseberry', 'papaya'], dtype=object)"
      ]
     },
     "execution_count": 28,
     "metadata": {},
     "output_type": "execute_result"
    }
   ],
   "source": [
    "fruits.unique()"
   ]
  },
  {
   "cell_type": "code",
   "execution_count": null,
   "id": "b5c38351-d05f-4cbb-8e13-832e5076ee22",
   "metadata": {},
   "outputs": [],
   "source": [
    "# 8. Determine how many times each unique string value occurs in fruits."
   ]
  },
  {
   "cell_type": "code",
   "execution_count": 29,
   "id": "940097fb-327e-42a5-9a4c-27e28d369a11",
   "metadata": {
    "tags": []
   },
   "outputs": [
    {
     "data": {
      "text/plain": [
       "kiwi                4\n",
       "mango               2\n",
       "strawberry          1\n",
       "pineapple           1\n",
       "gala apple          1\n",
       "honeycrisp apple    1\n",
       "tomato              1\n",
       "watermelon          1\n",
       "honeydew            1\n",
       "blueberry           1\n",
       "blackberry          1\n",
       "gooseberry          1\n",
       "papaya              1\n",
       "dtype: int64"
      ]
     },
     "execution_count": 29,
     "metadata": {},
     "output_type": "execute_result"
    }
   ],
   "source": [
    "fruits.value_counts()"
   ]
  },
  {
   "cell_type": "code",
   "execution_count": null,
   "id": "b0e08335-79a8-4c58-915d-b3a9b2ade02a",
   "metadata": {},
   "outputs": [],
   "source": [
    "# 9. Determine the string value that occurs most frequently in fruits."
   ]
  },
  {
   "cell_type": "code",
   "execution_count": 30,
   "id": "05792076-a607-4d82-bff4-1cae095fefe3",
   "metadata": {
    "tags": []
   },
   "outputs": [
    {
     "data": {
      "text/plain": [
       "0    kiwi\n",
       "dtype: object"
      ]
     },
     "execution_count": 30,
     "metadata": {},
     "output_type": "execute_result"
    }
   ],
   "source": [
    "fruits.mode()"
   ]
  },
  {
   "cell_type": "code",
   "execution_count": 31,
   "id": "72e8e4b1-940a-4ade-b00f-746722d136c8",
   "metadata": {
    "tags": []
   },
   "outputs": [],
   "source": [
    "# 10. Determine the string value that occurs least frequently in fruits."
   ]
  },
  {
   "cell_type": "code",
   "execution_count": 33,
   "id": "e1237154-38c0-4e9a-b6f6-124a383befcb",
   "metadata": {
    "tags": []
   },
   "outputs": [
    {
     "data": {
      "text/plain": [
       "strawberry          1\n",
       "pineapple           1\n",
       "gala apple          1\n",
       "honeycrisp apple    1\n",
       "tomato              1\n",
       "watermelon          1\n",
       "honeydew            1\n",
       "blueberry           1\n",
       "blackberry          1\n",
       "gooseberry          1\n",
       "papaya              1\n",
       "dtype: int64"
      ]
     },
     "execution_count": 33,
     "metadata": {},
     "output_type": "execute_result"
    }
   ],
   "source": [
    "fruits.value_counts().nsmallest(keep='all')"
   ]
  },
  {
   "cell_type": "code",
   "execution_count": null,
   "id": "f95a8ff1-0dcb-4639-bf5b-138b0793196f",
   "metadata": {},
   "outputs": [],
   "source": []
  },
  {
   "cell_type": "code",
   "execution_count": 34,
   "id": "727cafa5-3476-4801-9591-8ccda4cef6bb",
   "metadata": {
    "tags": []
   },
   "outputs": [],
   "source": [
    "# Series Part 2"
   ]
  },
  {
   "cell_type": "code",
   "execution_count": null,
   "id": "7e7d22f0-ddd9-46dc-b761-cb037a20c846",
   "metadata": {},
   "outputs": [],
   "source": []
  },
  {
   "cell_type": "code",
   "execution_count": null,
   "id": "bd150dfd-c9d5-4520-b346-bfc59b33202f",
   "metadata": {},
   "outputs": [],
   "source": [
    "# 1. Capitalize all the string values in fruits."
   ]
  },
  {
   "cell_type": "code",
   "execution_count": 123,
   "id": "a69c0bec-a0c3-48a2-b519-71984680f93f",
   "metadata": {
    "tags": []
   },
   "outputs": [
    {
     "data": {
      "text/plain": [
       "0                 Kiwi\n",
       "1                Mango\n",
       "2           Strawberry\n",
       "3            Pineapple\n",
       "4           Gala apple\n",
       "5     Honeycrisp apple\n",
       "6               Tomato\n",
       "7           Watermelon\n",
       "8             Honeydew\n",
       "9                 Kiwi\n",
       "10                Kiwi\n",
       "11                Kiwi\n",
       "12               Mango\n",
       "13           Blueberry\n",
       "14          Blackberry\n",
       "15          Gooseberry\n",
       "16              Papaya\n",
       "dtype: object"
      ]
     },
     "execution_count": 123,
     "metadata": {},
     "output_type": "execute_result"
    }
   ],
   "source": [
    "fruits.str.capitalize()"
   ]
  },
  {
   "cell_type": "code",
   "execution_count": null,
   "id": "0c46cb3b-1ba2-4710-b298-847ea2c0a103",
   "metadata": {},
   "outputs": [],
   "source": [
    "# 2. Count the letter \"a\" in all the string values (use string vectorization)."
   ]
  },
  {
   "cell_type": "code",
   "execution_count": 65,
   "id": "6a81a29f-8371-4b0e-9848-1ecc772cc5f1",
   "metadata": {
    "tags": []
   },
   "outputs": [
    {
     "data": {
      "text/plain": [
       "14"
      ]
     },
     "execution_count": 65,
     "metadata": {},
     "output_type": "execute_result"
    }
   ],
   "source": [
    "sum(fruits.str.count('a'))"
   ]
  },
  {
   "cell_type": "code",
   "execution_count": null,
   "id": "868148ea-b168-4b44-b788-24c1fe72aa6d",
   "metadata": {},
   "outputs": [],
   "source": [
    "# 3. Output the number of vowels in each and every string value."
   ]
  },
  {
   "cell_type": "code",
   "execution_count": 58,
   "id": "d650ca9e-59e1-41e6-8439-bd7db377bbce",
   "metadata": {
    "tags": []
   },
   "outputs": [
    {
     "data": {
      "text/plain": [
       "0     2\n",
       "1     2\n",
       "2     2\n",
       "3     4\n",
       "4     4\n",
       "5     5\n",
       "6     3\n",
       "7     4\n",
       "8     3\n",
       "9     2\n",
       "10    2\n",
       "11    2\n",
       "12    2\n",
       "13    3\n",
       "14    2\n",
       "15    4\n",
       "16    3\n",
       "dtype: int64"
      ]
     },
     "execution_count": 58,
     "metadata": {},
     "output_type": "execute_result"
    }
   ],
   "source": [
    "fruits.str.count('a') + fruits.str.count('e') + fruits.str.count('i') + fruits.str.count('o') + fruits.str.count('u')"
   ]
  },
  {
   "cell_type": "code",
   "execution_count": 124,
   "id": "72ce8dac-8644-4567-a633-0f2cdf6d1703",
   "metadata": {
    "tags": []
   },
   "outputs": [
    {
     "data": {
      "text/plain": [
       "0     2\n",
       "1     2\n",
       "2     2\n",
       "3     4\n",
       "4     4\n",
       "5     5\n",
       "6     3\n",
       "7     4\n",
       "8     3\n",
       "9     2\n",
       "10    2\n",
       "11    2\n",
       "12    2\n",
       "13    3\n",
       "14    2\n",
       "15    4\n",
       "16    3\n",
       "dtype: int64"
      ]
     },
     "execution_count": 124,
     "metadata": {},
     "output_type": "execute_result"
    }
   ],
   "source": [
    "fruits.str.count(r'[aeiou]')"
   ]
  },
  {
   "cell_type": "code",
   "execution_count": null,
   "id": "b6db5a4d-547c-4ec1-8279-ac7f6fb6b282",
   "metadata": {},
   "outputs": [],
   "source": [
    "# 4. Write the code to get the longest string value from fruits."
   ]
  },
  {
   "cell_type": "code",
   "execution_count": 84,
   "id": "8b263fb4-6b7c-462e-9e3d-16a5f222a419",
   "metadata": {
    "tags": []
   },
   "outputs": [
    {
     "name": "stdout",
     "output_type": "stream",
     "text": [
      "honeycrisp apple\n"
     ]
    }
   ],
   "source": [
    "max_len = max(fruits, key=len)\n",
    "print(max_len)"
   ]
  },
  {
   "cell_type": "code",
   "execution_count": 131,
   "id": "104d7040-b1c1-42e0-9916-734eb18f69b6",
   "metadata": {
    "tags": []
   },
   "outputs": [
    {
     "data": {
      "text/plain": [
       "'honeycrisp apple'"
      ]
     },
     "execution_count": 131,
     "metadata": {},
     "output_type": "execute_result"
    }
   ],
   "source": [
    "max(fruits, key=len)"
   ]
  },
  {
   "cell_type": "code",
   "execution_count": null,
   "id": "cee181c2-ddfc-4814-b4b0-748855969cb0",
   "metadata": {},
   "outputs": [],
   "source": [
    "# 5. Write the code to get the string values with 5 or more letters in the name."
   ]
  },
  {
   "cell_type": "code",
   "execution_count": 94,
   "id": "d28e0a21-94e8-4c1f-a846-65b06568c585",
   "metadata": {
    "tags": []
   },
   "outputs": [
    {
     "data": {
      "text/plain": [
       "1                mango\n",
       "2           strawberry\n",
       "3            pineapple\n",
       "4           gala apple\n",
       "5     honeycrisp apple\n",
       "6               tomato\n",
       "7           watermelon\n",
       "8             honeydew\n",
       "12               mango\n",
       "13           blueberry\n",
       "14          blackberry\n",
       "15          gooseberry\n",
       "16              papaya\n",
       "dtype: object"
      ]
     },
     "execution_count": 94,
     "metadata": {},
     "output_type": "execute_result"
    }
   ],
   "source": [
    "#get my array of booleans\n",
    "mask = fruits.str.len() >= 5\n",
    "mask\n",
    "\n",
    "#apply my mask\n",
    "fruits [mask]"
   ]
  },
  {
   "cell_type": "code",
   "execution_count": null,
   "id": "5371d683-3ef6-40ac-97ea-9f21901f09af",
   "metadata": {},
   "outputs": [],
   "source": [
    "# 6. Find the fruit(s) containing the letter \"o\" two or more times."
   ]
  },
  {
   "cell_type": "code",
   "execution_count": 133,
   "id": "bb9e4916-46b6-4892-9b82-55fe014fef07",
   "metadata": {
    "tags": []
   },
   "outputs": [
    {
     "data": {
      "text/plain": [
       "6         tomato\n",
       "15    gooseberry\n",
       "dtype: object"
      ]
     },
     "execution_count": 133,
     "metadata": {},
     "output_type": "execute_result"
    }
   ],
   "source": [
    "fruits [fruits.str.count('o') >=2]"
   ]
  },
  {
   "cell_type": "code",
   "execution_count": null,
   "id": "6b51e9a5-d117-42e2-9622-61084848c69a",
   "metadata": {},
   "outputs": [],
   "source": [
    "# 7.Write the code to get only the string values containing the substring \"berry\"."
   ]
  },
  {
   "cell_type": "code",
   "execution_count": 136,
   "id": "c5e5cd08-58b0-4735-96d4-b4fd3553dce8",
   "metadata": {
    "tags": []
   },
   "outputs": [
    {
     "data": {
      "text/plain": [
       "2     strawberry\n",
       "13     blueberry\n",
       "14    blackberry\n",
       "15    gooseberry\n",
       "dtype: object"
      ]
     },
     "execution_count": 136,
     "metadata": {},
     "output_type": "execute_result"
    }
   ],
   "source": [
    "fruits [fruits.str.contains('berry')]"
   ]
  },
  {
   "cell_type": "code",
   "execution_count": null,
   "id": "478d7c13-63db-486a-b2b5-289901828ad9",
   "metadata": {},
   "outputs": [],
   "source": [
    "# 8. Write the code to get only the string values containing the substring \"apple\"."
   ]
  },
  {
   "cell_type": "code",
   "execution_count": 137,
   "id": "f3f558d7-323d-42b3-a9a4-fa12456368b4",
   "metadata": {
    "tags": []
   },
   "outputs": [
    {
     "data": {
      "text/plain": [
       "3           pineapple\n",
       "4          gala apple\n",
       "5    honeycrisp apple\n",
       "dtype: object"
      ]
     },
     "execution_count": 137,
     "metadata": {},
     "output_type": "execute_result"
    }
   ],
   "source": [
    "fruits [fruits.str.contains('apple')]"
   ]
  },
  {
   "cell_type": "code",
   "execution_count": 113,
   "id": "ddefb93b-45b8-4a72-93c2-a01250281235",
   "metadata": {
    "tags": []
   },
   "outputs": [],
   "source": [
    "# 9. Which string value contains the most vowels?"
   ]
  },
  {
   "cell_type": "code",
   "execution_count": 143,
   "id": "588fc8f9-c105-4f13-9a22-77807db84e5b",
   "metadata": {
    "tags": []
   },
   "outputs": [
    {
     "ename": "NameError",
     "evalue": "name 'max_vowels' is not defined",
     "output_type": "error",
     "traceback": [
      "\u001b[0;31m---------------------------------------------------------------------------\u001b[0m",
      "\u001b[0;31mNameError\u001b[0m                                 Traceback (most recent call last)",
      "Cell \u001b[0;32mIn[143], line 1\u001b[0m\n\u001b[0;32m----> 1\u001b[0m fruits [fruits\u001b[38;5;241m.\u001b[39mapply(count_vowels) \u001b[38;5;241m==\u001b[39m max_vowels]\n",
      "\u001b[0;31mNameError\u001b[0m: name 'max_vowels' is not defined"
     ]
    }
   ],
   "source": [
    "fruits [fruits.apply(count_vowels) == max_vowels]"
   ]
  },
  {
   "cell_type": "code",
   "execution_count": null,
   "id": "b3eb2392-9a9e-41ab-bdef-ebbd422180a5",
   "metadata": {},
   "outputs": [],
   "source": []
  },
  {
   "cell_type": "code",
   "execution_count": null,
   "id": "2bbe00ea-e82e-481e-bd25-6c12cd220fdd",
   "metadata": {},
   "outputs": [],
   "source": [
    "# Series Part 3"
   ]
  },
  {
   "cell_type": "code",
   "execution_count": null,
   "id": "463aa397-394f-476e-b5fb-3c8fa162e583",
   "metadata": {},
   "outputs": [],
   "source": []
  },
  {
   "cell_type": "code",
   "execution_count": null,
   "id": "1febcdfa-009f-4ef3-9220-a57828b305d7",
   "metadata": {},
   "outputs": [],
   "source": [
    "# Use pandas to create a Series named letters from the following string. The easiest way to make this string into a Pandas series is to use list \n",
    "# to convert each individual letter into a single string on a basic Python list.\n"
   ]
  },
  {
   "cell_type": "code",
   "execution_count": 150,
   "id": "d27f33f3-f176-42ae-8ccc-7ba24b7cd81c",
   "metadata": {
    "tags": []
   },
   "outputs": [],
   "source": [
    "letters = pd.Series('hnvidduckkqxwymbimkccexbkmqygkxoyndmcxnwqarhyffsjpsrabtjzsypmzadfavyrnndndvswreauxovncxtwzpw\\\n",
    "ejilzjrmmbbgbyxvjtewqthafnbkqplarokkyydtubbmnexoypulzwfhqvckdpqtpoppzqrmcvhhpwgjwupgzhiofohawytlsiyecuproguy')\n"
   ]
  },
  {
   "cell_type": "code",
   "execution_count": 122,
   "id": "df4e3161-5f93-44a4-ac9d-1ca7e8b175f6",
   "metadata": {
    "tags": []
   },
   "outputs": [
    {
     "data": {
      "text/plain": [
       "pandas.core.series.Series"
      ]
     },
     "execution_count": 122,
     "metadata": {},
     "output_type": "execute_result"
    }
   ],
   "source": [
    "type(letters)"
   ]
  },
  {
   "cell_type": "code",
   "execution_count": null,
   "id": "c6e95152-5439-4a1b-9495-aadb5e0fd5cd",
   "metadata": {},
   "outputs": [],
   "source": [
    "# 1a. Which letter occurs the most frequently in the letters Series?"
   ]
  },
  {
   "cell_type": "code",
   "execution_count": 151,
   "id": "6616c49f-f5a9-45ba-9d5e-703dc69104fd",
   "metadata": {
    "tags": []
   },
   "outputs": [
    {
     "ename": "AttributeError",
     "evalue": "'Series' object has no attribute 'valuecounts'",
     "output_type": "error",
     "traceback": [
      "\u001b[0;31m---------------------------------------------------------------------------\u001b[0m",
      "\u001b[0;31mAttributeError\u001b[0m                            Traceback (most recent call last)",
      "Cell \u001b[0;32mIn[151], line 1\u001b[0m\n\u001b[0;32m----> 1\u001b[0m letters\u001b[38;5;241m.\u001b[39mvaluecounts()\u001b[38;5;241m.\u001b[39mmax()\n",
      "File \u001b[0;32m/opt/homebrew/anaconda3/lib/python3.11/site-packages/pandas/core/generic.py:5902\u001b[0m, in \u001b[0;36mNDFrame.__getattr__\u001b[0;34m(self, name)\u001b[0m\n\u001b[1;32m   5895\u001b[0m \u001b[38;5;28;01mif\u001b[39;00m (\n\u001b[1;32m   5896\u001b[0m     name \u001b[38;5;129;01mnot\u001b[39;00m \u001b[38;5;129;01min\u001b[39;00m \u001b[38;5;28mself\u001b[39m\u001b[38;5;241m.\u001b[39m_internal_names_set\n\u001b[1;32m   5897\u001b[0m     \u001b[38;5;129;01mand\u001b[39;00m name \u001b[38;5;129;01mnot\u001b[39;00m \u001b[38;5;129;01min\u001b[39;00m \u001b[38;5;28mself\u001b[39m\u001b[38;5;241m.\u001b[39m_metadata\n\u001b[1;32m   5898\u001b[0m     \u001b[38;5;129;01mand\u001b[39;00m name \u001b[38;5;129;01mnot\u001b[39;00m \u001b[38;5;129;01min\u001b[39;00m \u001b[38;5;28mself\u001b[39m\u001b[38;5;241m.\u001b[39m_accessors\n\u001b[1;32m   5899\u001b[0m     \u001b[38;5;129;01mand\u001b[39;00m \u001b[38;5;28mself\u001b[39m\u001b[38;5;241m.\u001b[39m_info_axis\u001b[38;5;241m.\u001b[39m_can_hold_identifiers_and_holds_name(name)\n\u001b[1;32m   5900\u001b[0m ):\n\u001b[1;32m   5901\u001b[0m     \u001b[38;5;28;01mreturn\u001b[39;00m \u001b[38;5;28mself\u001b[39m[name]\n\u001b[0;32m-> 5902\u001b[0m \u001b[38;5;28;01mreturn\u001b[39;00m \u001b[38;5;28mobject\u001b[39m\u001b[38;5;241m.\u001b[39m\u001b[38;5;21m__getattribute__\u001b[39m(\u001b[38;5;28mself\u001b[39m, name)\n",
      "\u001b[0;31mAttributeError\u001b[0m: 'Series' object has no attribute 'valuecounts'"
     ]
    }
   ],
   "source": [
    "letters.valuecounts().max()"
   ]
  },
  {
   "cell_type": "code",
   "execution_count": null,
   "id": "3ee8492b-659a-4eb0-b0e0-28e8f6317bdf",
   "metadata": {},
   "outputs": [],
   "source": [
    "\n",
    "# 2a. Which letter occurs the Least frequently?"
   ]
  },
  {
   "cell_type": "code",
   "execution_count": null,
   "id": "d04fefa6-2bee-46d3-9d5c-2edf4ce9a0f9",
   "metadata": {},
   "outputs": [],
   "source": []
  },
  {
   "cell_type": "code",
   "execution_count": null,
   "id": "87255c47-5fc9-4204-af31-f03533bd3b93",
   "metadata": {},
   "outputs": [],
   "source": [
    "# 3a. How many vowels are in the Series?"
   ]
  },
  {
   "cell_type": "code",
   "execution_count": null,
   "id": "2f0c1e91-d7fd-42ef-b48e-1fa7f2cbc903",
   "metadata": {},
   "outputs": [],
   "source": []
  },
  {
   "cell_type": "code",
   "execution_count": null,
   "id": "b37c05e6-131a-4616-85eb-b6df12085836",
   "metadata": {},
   "outputs": [],
   "source": [
    "# 4a. How many consonants are in the Series?"
   ]
  },
  {
   "cell_type": "code",
   "execution_count": null,
   "id": "f1b0e386-25ae-4889-b798-2a8166037c84",
   "metadata": {},
   "outputs": [],
   "source": []
  },
  {
   "cell_type": "code",
   "execution_count": null,
   "id": "347e6501-e09d-41d5-b10f-1facd134d0d9",
   "metadata": {},
   "outputs": [],
   "source": [
    "# 5a. Create a Series that has all of the same letters but uppercased."
   ]
  },
  {
   "cell_type": "code",
   "execution_count": null,
   "id": "16579398-d45a-4548-bf13-64a86e76b202",
   "metadata": {},
   "outputs": [],
   "source": []
  },
  {
   "cell_type": "code",
   "execution_count": null,
   "id": "ed44e54c-22f3-48c7-92ed-a8743fcd3e4a",
   "metadata": {},
   "outputs": [],
   "source": [
    "# 6a. Create a bar plot of the frequencies of the 6 most commonly occuring letters."
   ]
  },
  {
   "cell_type": "code",
   "execution_count": null,
   "id": "5c6d71c5-5c99-43fb-b65a-68b1e327f41b",
   "metadata": {},
   "outputs": [],
   "source": []
  },
  {
   "cell_type": "code",
   "execution_count": 153,
   "id": "2d358604-03cf-4213-8f27-5e944546e9aa",
   "metadata": {
    "tags": []
   },
   "outputs": [],
   "source": [
    "numbers = pd.Series(['$796,459.41', '$278.60', '$482,571.67', '$4,503,915.98', '$2,121,418.3', '$1,260,813.3', '$87,231.01', '$1,509,175.45', '$4,138,548.00', '$2,848,913.80', '$594,715.39', '$4,789,988.17', '$4,513,644.5', '$3,191,059.97', '$1,758,712.24', '$4,338,283.54', '$4,738,303.38', '$2,791,759.67', '$769,681.94', '$452,650.23'])"
   ]
  },
  {
   "cell_type": "code",
   "execution_count": 154,
   "id": "f4366b6b-d3dd-4896-82aa-c2365a143b28",
   "metadata": {
    "tags": []
   },
   "outputs": [
    {
     "data": {
      "text/plain": [
       "0       $796,459.41\n",
       "1           $278.60\n",
       "2       $482,571.67\n",
       "3     $4,503,915.98\n",
       "4      $2,121,418.3\n",
       "5      $1,260,813.3\n",
       "6        $87,231.01\n",
       "7     $1,509,175.45\n",
       "8     $4,138,548.00\n",
       "9     $2,848,913.80\n",
       "10      $594,715.39\n",
       "11    $4,789,988.17\n",
       "12     $4,513,644.5\n",
       "13    $3,191,059.97\n",
       "14    $1,758,712.24\n",
       "15    $4,338,283.54\n",
       "16    $4,738,303.38\n",
       "17    $2,791,759.67\n",
       "18      $769,681.94\n",
       "19      $452,650.23\n",
       "dtype: object"
      ]
     },
     "execution_count": 154,
     "metadata": {},
     "output_type": "execute_result"
    }
   ],
   "source": [
    "numbers"
   ]
  },
  {
   "cell_type": "code",
   "execution_count": null,
   "id": "c5cd2818-5db3-4269-b0e8-73ad224c79cd",
   "metadata": {},
   "outputs": [],
   "source": [
    "# 1b. What is the data type of the numbers Series?"
   ]
  },
  {
   "cell_type": "code",
   "execution_count": 155,
   "id": "7e6176ce-3879-4da9-9aec-5ff3bd416588",
   "metadata": {
    "tags": []
   },
   "outputs": [
    {
     "data": {
      "text/plain": [
       "dtype('O')"
      ]
     },
     "execution_count": 155,
     "metadata": {},
     "output_type": "execute_result"
    }
   ],
   "source": [
    "numbers.dtype"
   ]
  },
  {
   "cell_type": "code",
   "execution_count": null,
   "id": "34a4b51e-0052-4495-9219-94561744577e",
   "metadata": {},
   "outputs": [],
   "source": [
    "# 2b. How many elements are in the number Series?"
   ]
  },
  {
   "cell_type": "code",
   "execution_count": 156,
   "id": "bd5e2916-54f9-4030-a4aa-b588ccc39058",
   "metadata": {
    "tags": []
   },
   "outputs": [
    {
     "data": {
      "text/plain": [
       "RangeIndex(start=0, stop=20, step=1)"
      ]
     },
     "execution_count": 156,
     "metadata": {},
     "output_type": "execute_result"
    }
   ],
   "source": [
    "numbers.index\n",
    "numbers.size"
   ]
  },
  {
   "cell_type": "code",
   "execution_count": null,
   "id": "5c61c187-728d-4ad5-8d2c-5a2029c1ec6d",
   "metadata": {},
   "outputs": [],
   "source": [
    "# 3b. Perform the necessary manipulations by accessing Series attributes and methods to convert the numbers Series to a numeric data type."
   ]
  },
  {
   "cell_type": "code",
   "execution_count": 163,
   "id": "3826f178-9f28-42ed-964a-d870fef663a9",
   "metadata": {
    "tags": []
   },
   "outputs": [],
   "source": [
    "numbers = numbers.str.strip('$').str.replace(',','').astype(float)"
   ]
  },
  {
   "cell_type": "code",
   "execution_count": null,
   "id": "44e8e539-d9c7-42db-96a6-863c36b43292",
   "metadata": {},
   "outputs": [],
   "source": [
    "# 4b. Run the code to discover the maximum value from the Series."
   ]
  },
  {
   "cell_type": "code",
   "execution_count": 165,
   "id": "0b026e6e-6c76-4a0f-aeed-5ad7bed486c9",
   "metadata": {
    "tags": []
   },
   "outputs": [
    {
     "data": {
      "text/plain": [
       "4789988.17"
      ]
     },
     "execution_count": 165,
     "metadata": {},
     "output_type": "execute_result"
    }
   ],
   "source": [
    "numbers.max()"
   ]
  },
  {
   "cell_type": "code",
   "execution_count": null,
   "id": "49ca6c45-ae0f-43ed-9373-4cb373365a62",
   "metadata": {},
   "outputs": [],
   "source": [
    "# 5b. Run the code to discover the minimum value from the Series."
   ]
  },
  {
   "cell_type": "code",
   "execution_count": 166,
   "id": "ddb54046-a1d4-4eda-98a8-0f672cc5518f",
   "metadata": {
    "tags": []
   },
   "outputs": [
    {
     "data": {
      "text/plain": [
       "278.6"
      ]
     },
     "execution_count": 166,
     "metadata": {},
     "output_type": "execute_result"
    }
   ],
   "source": [
    "numbers.min()"
   ]
  },
  {
   "cell_type": "code",
   "execution_count": null,
   "id": "2bee2393-9277-458b-88b9-a05cdf2020ba",
   "metadata": {},
   "outputs": [],
   "source": [
    "# 6b. What is the range of the values in the Series?"
   ]
  },
  {
   "cell_type": "code",
   "execution_count": 167,
   "id": "40016d69-007e-4aed-b790-c402b8541eb5",
   "metadata": {
    "tags": []
   },
   "outputs": [
    {
     "data": {
      "text/plain": [
       "4789709.57"
      ]
     },
     "execution_count": 167,
     "metadata": {},
     "output_type": "execute_result"
    }
   ],
   "source": [
    "numbers.max() - numbers.min()"
   ]
  },
  {
   "cell_type": "code",
   "execution_count": null,
   "id": "10c3749c-04e3-4de0-b533-a041cfd6156e",
   "metadata": {},
   "outputs": [],
   "source": [
    "# 7b. Bin the data into 4 equally sized intervals or bins and output how many values fall into each bin."
   ]
  },
  {
   "cell_type": "code",
   "execution_count": 172,
   "id": "cded0699-d6fb-46d9-a51f-04f584f8e240",
   "metadata": {
    "tags": []
   },
   "outputs": [
    {
     "data": {
      "text/plain": [
       "(-4511.11, 1197705.993]       7\n",
       "(1197705.993, 2395133.385]    4\n",
       "(2395133.385, 3592560.778]    3\n",
       "(3592560.778, 4789988.17]     6\n",
       "dtype: int64"
      ]
     },
     "execution_count": 172,
     "metadata": {},
     "output_type": "execute_result"
    }
   ],
   "source": [
    "binned_numbers = pd.cut(numbers, bins=4).value_counts().sort_index()\n",
    "binned_numbers"
   ]
  },
  {
   "cell_type": "code",
   "execution_count": null,
   "id": "e268d81c-1049-4d83-8b25-9bfe8dcfbbe9",
   "metadata": {},
   "outputs": [],
   "source": [
    "# 8b. Plot the binned data in a meaningful way. Be sure to include a title and axis labels."
   ]
  },
  {
   "cell_type": "code",
   "execution_count": 179,
   "id": "828f3f75-ca58-4c40-b569-9642e78a4ba7",
   "metadata": {
    "tags": []
   },
   "outputs": [
    {
     "data": {
      "image/png": "[encoded data removed]",
      "text/plain": [
       "<Figure size 640x480 with 1 Axes>"
      ]
     },
     "metadata": {},
     "output_type": "display_data"
    }
   ],
   "source": [
    "binned_numbers.plot.bar(\n",
    "    'Binned Numbers from Numbers Series'\n",
    ");"
   ]
  },
  {
   "cell_type": "code",
   "execution_count": null,
   "id": "87449125-86fc-4dff-b334-b45b2c8a95b2",
   "metadata": {},
   "outputs": [],
   "source": []
  },
  {
   "cell_type": "code",
   "execution_count": null,
   "id": "9b3b76b1-891f-4f1a-b8fc-62b561e881d1",
   "metadata": {},
   "outputs": [],
   "source": []
  },
  {
   "cell_type": "code",
   "execution_count": 180,
   "id": "4895847c-300f-40e9-8cb2-5999c60edd80",
   "metadata": {
    "tags": []
   },
   "outputs": [],
   "source": [
    "exam_scores = pd.Series([60, 86, 75, 62, 93, 71, 60, 83, 95, 78, 65, 72, 69, 81, 96, 80, 85, 92, 82, 78])\n",
    "\n"
   ]
  },
  {
   "cell_type": "code",
   "execution_count": null,
   "id": "c2ed5cad-b6a1-4ef0-92dd-c48963055d28",
   "metadata": {},
   "outputs": [],
   "source": [
    "# 1c. How many elements are in the exam_scores Series?"
   ]
  },
  {
   "cell_type": "code",
   "execution_count": 181,
   "id": "933cd8b3-2536-404b-a2d0-f5e7c3770105",
   "metadata": {
    "tags": []
   },
   "outputs": [
    {
     "data": {
      "text/plain": [
       "20"
      ]
     },
     "execution_count": 181,
     "metadata": {},
     "output_type": "execute_result"
    }
   ],
   "source": [
    "exam_scores.count()"
   ]
  },
  {
   "cell_type": "code",
   "execution_count": null,
   "id": "296b5878-0908-4cb8-865d-2682bae0327e",
   "metadata": {},
   "outputs": [],
   "source": [
    "# 2c. Run the code to discover the minimum, the maximum, the mean, and the median scores for the exam_scores Series."
   ]
  },
  {
   "cell_type": "code",
   "execution_count": 182,
   "id": "e95ecdbb-ee23-4fab-86ad-ef38df61ff5c",
   "metadata": {
    "tags": []
   },
   "outputs": [
    {
     "data": {
      "text/plain": [
       "count    20.000000\n",
       "mean     78.150000\n",
       "std      11.352139\n",
       "min      60.000000\n",
       "25%      70.500000\n",
       "50%      79.000000\n",
       "75%      85.250000\n",
       "max      96.000000\n",
       "dtype: float64"
      ]
     },
     "execution_count": 182,
     "metadata": {},
     "output_type": "execute_result"
    }
   ],
   "source": [
    "exam_scores.describe()"
   ]
  },
  {
   "cell_type": "code",
   "execution_count": null,
   "id": "edc52675-ea89-4f41-9d13-f1bd59d7432c",
   "metadata": {},
   "outputs": [],
   "source": [
    "# 3c. Plot the Series in a meaningful way and make sure your chart has a title and axis labels."
   ]
  },
  {
   "cell_type": "code",
   "execution_count": 184,
   "id": "ce8b8631-fe4a-48e8-bef4-e1bc8153795f",
   "metadata": {
    "tags": []
   },
   "outputs": [
    {
     "data": {
      "text/plain": [
       "<Axes: ylabel='Frequency'>"
      ]
     },
     "execution_count": 184,
     "metadata": {},
     "output_type": "execute_result"
    },
    {
     "data": {
      "image/png": "[encoded data removed]",
      "text/plain": [
       "<Figure size 640x480 with 1 Axes>"
      ]
     },
     "metadata": {},
     "output_type": "display_data"
    }
   ],
   "source": [
    "exam_scores.plot.hist()"
   ]
  },
  {
   "cell_type": "code",
   "execution_count": null,
   "id": "382e6ffd-f384-4ada-919e-ee84c5c50e0e",
   "metadata": {},
   "outputs": [],
   "source": [
    "# 4c. Write the code necessary to implement a curve for your exam_grades Series and save this as curved_grades. Add the necessary points to the highest grade \n",
    "# to make it 100, and add the same number of points to every other score in the Series as well."
   ]
  },
  {
   "cell_type": "code",
   "execution_count": null,
   "id": "eb344180-8bec-4d93-a894-6e5c646e60bd",
   "metadata": {},
   "outputs": [],
   "source": []
  },
  {
   "cell_type": "code",
   "execution_count": null,
   "id": "bea52e14-7c15-4cfa-85bb-949eff0f832f",
   "metadata": {},
   "outputs": [],
   "source": [
    "# 5c. Use a method to convert each of the numeric values in the curved_grades Series into a categorical value of letter grades. For example, 86 should be \n",
    "# a 'B' and 95 should be an 'A'. Save this as a Series named letter_grades."
   ]
  },
  {
   "cell_type": "code",
   "execution_count": null,
   "id": "cd918e7f-4863-4b08-aa0c-94575c92f592",
   "metadata": {},
   "outputs": [],
   "source": []
  },
  {
   "cell_type": "code",
   "execution_count": null,
   "id": "d3fa9c4e-381e-4573-adf2-6eba0ab6a2cb",
   "metadata": {},
   "outputs": [],
   "source": [
    "# 6c. Plot your new categorical letter_grades Series in a meaninful way and include a title and axis labels."
   ]
  },
  {
   "cell_type": "code",
   "execution_count": null,
   "id": "2ab83bb7-6b10-4316-a98a-d8f892976bed",
   "metadata": {},
   "outputs": [],
   "source": []
  }
 ],
 "metadata": {
  "kernelspec": {
   "display_name": "Python 3 (ipykernel)",
   "language": "python",
   "name": "python3"
  },
  "language_info": {
   "codemirror_mode": {
    "name": "ipython",
    "version": 3
   },
   "file_extension": ".py",
   "mimetype": "text/x-python",
   "name": "python",
   "nbconvert_exporter": "python",
   "pygments_lexer": "ipython3",
   "version": "3.11.4"
  }
 },
 "nbformat": 4,
 "nbformat_minor": 5
}
